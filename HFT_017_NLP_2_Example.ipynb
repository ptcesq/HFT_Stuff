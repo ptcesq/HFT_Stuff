{
 "cells": [
  {
   "cell_type": "markdown",
   "id": "562e5737-1563-407a-95a3-35d9028dbb27",
   "metadata": {},
   "source": [
    "# Fine Tune II - Huggingface.com\n",
    "https://huggingface.co/learn/nlp-course/chapter3/3?fw=pt"
   ]
  },
  {
   "cell_type": "code",
   "execution_count": null,
   "id": "821f124e-c7b0-46f7-8409-19e541233519",
   "metadata": {},
   "outputs": [],
   "source": []
  }
 ],
 "metadata": {
  "kernelspec": {
   "display_name": "Python 3 (ipykernel)",
   "language": "python",
   "name": "python3"
  },
  "language_info": {
   "codemirror_mode": {
    "name": "ipython",
    "version": 3
   },
   "file_extension": ".py",
   "mimetype": "text/x-python",
   "name": "python",
   "nbconvert_exporter": "python",
   "pygments_lexer": "ipython3",
   "version": "3.10.12"
  }
 },
 "nbformat": 4,
 "nbformat_minor": 5
}
