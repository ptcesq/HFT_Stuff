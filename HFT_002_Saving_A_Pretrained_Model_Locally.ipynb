{
 "cells": [
  {
   "cell_type": "markdown",
   "id": "25b6e810-4293-4787-bf2a-4d44d79f860f",
   "metadata": {},
   "source": [
    "# Saving a Model "
   ]
  },
  {
   "cell_type": "markdown",
   "id": "9472ac2b-a99b-4f0d-9b05-4bf616c2384d",
   "metadata": {},
   "source": [
    "## First Load the model"
   ]
  },
  {
   "cell_type": "code",
   "execution_count": 1,
   "id": "fbccd6a6-e2ab-45ec-a910-decfa573ed11",
   "metadata": {
    "tags": []
   },
   "outputs": [],
   "source": [
    "from transformers import BertConfig, BertModel"
   ]
  },
  {
   "cell_type": "code",
   "execution_count": 2,
   "id": "d37d1a2e-6b9f-46d7-8b86-209cfea9419d",
   "metadata": {
    "tags": []
   },
   "outputs": [],
   "source": [
    "bert_config = BertConfig.from_pretrained('bert-base-cased')"
   ]
  },
  {
   "cell_type": "code",
   "execution_count": 3,
   "id": "b875886a-d078-40e4-8b49-81fdf485cba7",
   "metadata": {
    "tags": []
   },
   "outputs": [],
   "source": [
    "bert_model = BertModel(bert_config) "
   ]
  },
  {
   "cell_type": "markdown",
   "id": "f3ab48f4-5152-4d3b-ab10-bf2ddf9be48c",
   "metadata": {},
   "source": [
    "## Now Save the model"
   ]
  },
  {
   "cell_type": "code",
   "execution_count": 4,
   "id": "f1d7961e-9250-4744-998f-b265cec343b8",
   "metadata": {
    "tags": []
   },
   "outputs": [],
   "source": [
    "bert_model.save_pretrained(\"my_bert_model_3\")"
   ]
  },
  {
   "cell_type": "markdown",
   "id": "7ddd9ad0-b712-40cd-a1b2-8dc811582dce",
   "metadata": {},
   "source": [
    "## Now let's bring the model back! "
   ]
  },
  {
   "cell_type": "code",
   "execution_count": 5,
   "id": "f8184dda-fc47-404c-8f08-103e4539e4d0",
   "metadata": {
    "tags": []
   },
   "outputs": [],
   "source": [
    "bert_model_2 = BertModel.from_pretrained(\"my_bert_model_3\")  "
   ]
  },
  {
   "cell_type": "code",
   "execution_count": null,
   "id": "f18de7fc-5804-465c-9a8e-5b4afc6864c1",
   "metadata": {},
   "outputs": [],
   "source": []
  }
 ],
 "metadata": {
  "kernelspec": {
   "display_name": "Python 3 (ipykernel)",
   "language": "python",
   "name": "python3"
  },
  "language_info": {
   "codemirror_mode": {
    "name": "ipython",
    "version": 3
   },
   "file_extension": ".py",
   "mimetype": "text/x-python",
   "name": "python",
   "nbconvert_exporter": "python",
   "pygments_lexer": "ipython3",
   "version": "3.10.12"
  }
 },
 "nbformat": 4,
 "nbformat_minor": 5
}
