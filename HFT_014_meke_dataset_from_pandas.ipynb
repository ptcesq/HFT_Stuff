{
 "cells": [
  {
   "cell_type": "code",
   "execution_count": 1,
   "id": "2821f6d7-6ea0-4b2a-af63-b141c3cf6308",
   "metadata": {
    "tags": []
   },
   "outputs": [],
   "source": [
    "# Import your libraries \n",
    "import torch\n",
    "from torch.utils.data import Dataset, DataLoader"
   ]
  },
  {
   "cell_type": "code",
   "execution_count": 14,
   "id": "d339cfa1-eb63-4a31-8466-297e7d6d4a85",
   "metadata": {},
   "outputs": [],
   "source": [
    "# Define your dataset class \n",
    "class QADataset(Dataset):\n",
    "    def __init__(self, data):\n",
    "        self.data = data\n",
    "\n",
    "    def __len__(self):\n",
    "        return len(self.data)\n",
    "\n",
    "    def __getitem__(self, idx):\n",
    "        question = self.data[idx][\"Question\"]\n",
    "        answer = self.data[idx][\"Answer\"]\n",
    "        # Perform any necessary preprocessing here\n",
    "        return question, answer"
   ]
  },
  {
   "cell_type": "code",
   "execution_count": 3,
   "id": "9c0e196c-d082-4459-92b5-800eb3485c43",
   "metadata": {
    "tags": []
   },
   "outputs": [],
   "source": [
    "#get your data \n",
    "data = [\n",
    "    {\"question\": \"What is the capital of France?\", \"answer\": \"Paris\"},\n",
    "    {\"question\": \"Who painted the Mona Lisa?\", \"answer\": \"Leonardo da Vinci\"},\n",
    "    # Add more question-answer pairs\n",
    "]"
   ]
  },
  {
   "cell_type": "code",
   "execution_count": 15,
   "id": "4fe06da6-cc26-48ae-a94d-85d283d82c15",
   "metadata": {
    "tags": []
   },
   "outputs": [
    {
     "name": "stdout",
     "output_type": "stream",
     "text": [
      "[{'Question': \"What\\xa0did\\xa0Trump\\xa0claim\\xa0about\\xa0Harris'\\xa0answers\\xa0in\\xa0her\\xa0interview?\", 'Answer': 'Trump\\xa0claimed\\xa0that\\xa0Harris\\'\\xa0answers\\xa0were\\xa0\"virtually\\xa0incoherent\"\\xa0and\\xa0edited\\xa0\"as\\xa0many\\xa0as\\xa0four\\xa0times\\xa0in\\xa0a\\xa0single\\xa0sentence\\xa0or\\xa0thought.\"'}, {'Question': 'What\\xa0did\\xa0Trump\\xa0allege\\xa0the\\xa0editing\\xa0could\\xa0be?', 'Answer': 'He\\xa0alleged\\xa0that\\xa0the\\xa0editing\\xa0could\\xa0be\\xa0a\\xa0\"major\\xa0campaign\\xa0finance\\xa0violation.\"'}, {'Question': 'What\\xa0did\\xa0Trump\\xa0demand\\xa0in\\xa0his\\xa0Truth\\xa0Social\\xa0post?', 'Answer': 'Trump\\xa0demanded\\xa0a\\xa0\"MAJOR\\xa0AND\\xa0IMMEDIATE\\xa0APOLOGY\"\\xa0and\\xa0called\\xa0for\\xa0an\\xa0investigation\\xa0to\\xa0start\\xa0immediately.'}, {'Question': \"Who\\xa0has\\xa0HuffPost\\xa0reached\\xa0out\\xa0to\\xa0for\\xa0clarification\\xa0on\\xa0Trump's\\xa0allegations?\", 'Answer': 'HuffPost\\xa0has\\xa0reached\\xa0out\\xa0to\\xa0a\\xa0Trump\\xa0spokesperson\\xa0for\\xa0clarification.'}, {'Question': \"Did\\xa0CBS\\xa0respond\\xa0to\\xa0HuffPost's\\xa0request\\xa0for\\xa0comment?\", 'Answer': 'No,\\xa0a\\xa0CBS\\xa0representative\\xa0did\\xa0not\\xa0immediately\\xa0respond\\xa0to\\xa0the\\xa0request\\xa0for\\xa0comment.'}, {'Question': 'Why\\xa0did\\xa0Trump\\xa0back\\xa0out\\xa0of\\xa0his\\xa0own\\xa0interview\\xa0with\\xa0\"60\\xa0Minutes\"?', 'Answer': \"Trump\\xa0backed\\xa0out\\xa0because\\xa0he\\xa0didn't\\xa0want\\xa0to\\xa0be\\xa0fact-checked\\xa0and\\xa0wanted\\xa0an\\xa0apology\\xa0for\\xa0how\\xa0his\\xa0interview\\xa0with\\xa0the\\xa0program\\xa0went\\xa0in\\xa02020.\"}, {'Question': 'What\\xa0did\\xa0Trump\\xa0spokesman\\xa0Steven\\xa0Cheung\\xa0say\\xa0about\\xa0the\\xa0\"60\\xa0Minutes\"\\xa0interview?', 'Answer': 'Steven\\xa0Cheung\\xa0insisted\\xa0that\\xa0\"there\\xa0was\\xa0nothing\\xa0scheduled\\xa0or\\xa0agreed\\xa0upon.\"'}, {'Question': 'Has\\xa0Trump\\xa0agreed\\xa0to\\xa0participate\\xa0in\\xa0a\\xa0second\\xa0debate\\xa0with\\xa0Harris?', 'Answer': 'No,\\xa0Trump\\xa0has\\xa0declined\\xa0to\\xa0participate\\xa0in\\xa0a\\xa0second\\xa0debate\\xa0with\\xa0Harris.'}, {'Question': 'What\\xa0opportunity\\xa0has\\xa0CNN\\xa0offered\\xa0to\\xa0both\\xa0candidates?', 'Answer': 'CNN\\xa0has\\xa0offered\\xa0both\\xa0candidates\\xa0an\\xa0opportunity\\xa0for\\xa0a\\xa0debate\\xa0later\\xa0this\\xa0month.'}, {'Question': \"What\\xa0did\\xa0Trump\\xa0say\\xa0about\\xa0the\\xa0editing\\xa0of\\xa0Harris'\\xa0interview?\", 'Answer': 'Trump\\xa0said\\xa0the\\xa0editing\\xa0was\\xa0done\\xa0to\\xa0make\\xa0Harris\\xa0look\\xa0\"more\\xa0Presidential\"\\xa0or\\xa0at\\xa0least\\xa0better.'}, {'Question': \"What\\xa0did\\xa0Trump\\xa0call\\xa0the\\xa0editing\\xa0of\\xa0Harris'\\xa0interview?\", 'Answer': 'He\\xa0called\\xa0it\\xa0\"sliced\\xa0and\\xa0diced\"\\xa0and\\xa0\"cut\\xa0and\\xa0pasted.\"'}, {'Question': 'What\\xa0did\\xa0Trump\\xa0say\\xa0the\\xa0public\\xa0is\\xa0owed?', 'Answer': 'Trump\\xa0said\\xa0the\\xa0public\\xa0is\\xa0owed\\xa0a\\xa0\"MAJOR\\xa0AND\\xa0IMMEDIATE\\xa0APOLOGY.\"'}, {'Question': 'What\\xa0did\\xa0Trump\\xa0demand\\xa0to\\xa0be\\xa0investigated?', 'Answer': \"He\\xa0demanded\\xa0that\\xa0the\\xa0alleged\\xa0editing\\xa0of\\xa0Harris'\\xa0interview\\xa0be\\xa0investigated.\"}, {'Question': 'What\\xa0did\\xa0Trump\\xa0say\\xa0about\\xa0the\\xa0tradition\\xa0of\\xa0presidential\\xa0candidates\\xa0participating\\xa0in\\xa0\"60\\xa0Minutes\"?', 'Answer': 'He\\xa0mentioned\\xa0that\\xa0it\\xa0is\\xa0a\\xa0tradition\\xa0dating\\xa0back\\xa0to\\xa01968.'}, {'Question': 'What\\xa0reason\\xa0did\\xa0Trump\\xa0give\\xa0for\\xa0canceling\\xa0his\\xa0\"60\\xa0Minutes\"\\xa0interview?', 'Answer': \"He\\xa0didn't\\xa0want\\xa0to\\xa0be\\xa0fact-checked\\xa0and\\xa0wanted\\xa0an\\xa0apology\\xa0for\\xa0his\\xa02020\\xa0interview.\"}, {'Question': 'What\\xa0did\\xa0Steven\\xa0Cheung\\xa0say\\xa0about\\xa0the\\xa0scheduling\\xa0of\\xa0the\\xa0\"60\\xa0Minutes\"\\xa0interview?', 'Answer': 'Cheung\\xa0said\\xa0there\\xa0was\\xa0nothing\\xa0scheduled\\xa0or\\xa0agreed\\xa0upon.'}, {'Question': \"What\\xa0did\\xa0Trump\\xa0say\\xa0about\\xa0Harris'\\xa0answers\\xa0in\\xa0her\\xa0interview?\", 'Answer': 'He\\xa0said\\xa0they\\xa0were\\xa0\"virtually\\xa0incoherent.\"'}, {'Question': \"What\\xa0did\\xa0Trump\\xa0allege\\xa0about\\xa0the\\xa0editing\\xa0of\\xa0Harris'\\xa0answers?\", 'Answer': 'He\\xa0alleged\\xa0that\\xa0they\\xa0were\\xa0edited\\xa0as\\xa0many\\xa0as\\xa0four\\xa0times\\xa0in\\xa0a\\xa0single\\xa0sentence\\xa0or\\xa0thought.'}, {'Question': 'What\\xa0did\\xa0Trump\\xa0say\\xa0about\\xa0the\\xa0editing\\xa0being\\xa0a\\xa0campaign\\xa0finance\\xa0violation?', 'Answer': 'He\\xa0said\\xa0it\\xa0could\\xa0be\\xa0a\\xa0\"major\\xa0campaign\\xa0finance\\xa0violation.\"'}, {'Question': 'What\\xa0did\\xa0Trump\\xa0demand\\xa0in\\xa0his\\xa0Truth\\xa0Social\\xa0post?', 'Answer': 'He\\xa0demanded\\xa0an\\xa0immediate\\xa0investigation\\xa0and\\xa0a\\xa0major\\xa0apology.'}]\n"
     ]
    }
   ],
   "source": [
    "import pandas as pd \n",
    "\n",
    "fileIn = \"/mnt/ssd/LLM_Stuff/data/trump.xlsx\"\n",
    "\n",
    "df = pd.read_excel(fileIn) \n",
    "\n",
    "\n",
    "data_dict = df.to_dict('records') \n",
    "print(data_dict) \n"
   ]
  },
  {
   "cell_type": "code",
   "execution_count": 16,
   "id": "e90c93b2-0508-439a-8d74-ff48c09fd71d",
   "metadata": {
    "tags": []
   },
   "outputs": [
    {
     "name": "stdout",
     "output_type": "stream",
     "text": [
      "(\"What\\xa0did\\xa0Trump\\xa0claim\\xa0about\\xa0Harris'\\xa0answers\\xa0in\\xa0her\\xa0interview?\", 'What\\xa0did\\xa0Trump\\xa0allege\\xa0the\\xa0editing\\xa0could\\xa0be?')\n",
      "('Trump\\xa0claimed\\xa0that\\xa0Harris\\'\\xa0answers\\xa0were\\xa0\"virtually\\xa0incoherent\"\\xa0and\\xa0edited\\xa0\"as\\xa0many\\xa0as\\xa0four\\xa0times\\xa0in\\xa0a\\xa0single\\xa0sentence\\xa0or\\xa0thought.\"', 'He\\xa0alleged\\xa0that\\xa0the\\xa0editing\\xa0could\\xa0be\\xa0a\\xa0\"major\\xa0campaign\\xa0finance\\xa0violation.\"')\n",
      "('What\\xa0did\\xa0Trump\\xa0demand\\xa0in\\xa0his\\xa0Truth\\xa0Social\\xa0post?', \"Who\\xa0has\\xa0HuffPost\\xa0reached\\xa0out\\xa0to\\xa0for\\xa0clarification\\xa0on\\xa0Trump's\\xa0allegations?\")\n",
      "('Trump\\xa0demanded\\xa0a\\xa0\"MAJOR\\xa0AND\\xa0IMMEDIATE\\xa0APOLOGY\"\\xa0and\\xa0called\\xa0for\\xa0an\\xa0investigation\\xa0to\\xa0start\\xa0immediately.', 'HuffPost\\xa0has\\xa0reached\\xa0out\\xa0to\\xa0a\\xa0Trump\\xa0spokesperson\\xa0for\\xa0clarification.')\n",
      "(\"Did\\xa0CBS\\xa0respond\\xa0to\\xa0HuffPost's\\xa0request\\xa0for\\xa0comment?\", 'Why\\xa0did\\xa0Trump\\xa0back\\xa0out\\xa0of\\xa0his\\xa0own\\xa0interview\\xa0with\\xa0\"60\\xa0Minutes\"?')\n",
      "('No,\\xa0a\\xa0CBS\\xa0representative\\xa0did\\xa0not\\xa0immediately\\xa0respond\\xa0to\\xa0the\\xa0request\\xa0for\\xa0comment.', \"Trump\\xa0backed\\xa0out\\xa0because\\xa0he\\xa0didn't\\xa0want\\xa0to\\xa0be\\xa0fact-checked\\xa0and\\xa0wanted\\xa0an\\xa0apology\\xa0for\\xa0how\\xa0his\\xa0interview\\xa0with\\xa0the\\xa0program\\xa0went\\xa0in\\xa02020.\")\n",
      "('What\\xa0did\\xa0Trump\\xa0spokesman\\xa0Steven\\xa0Cheung\\xa0say\\xa0about\\xa0the\\xa0\"60\\xa0Minutes\"\\xa0interview?', 'Has\\xa0Trump\\xa0agreed\\xa0to\\xa0participate\\xa0in\\xa0a\\xa0second\\xa0debate\\xa0with\\xa0Harris?')\n",
      "('Steven\\xa0Cheung\\xa0insisted\\xa0that\\xa0\"there\\xa0was\\xa0nothing\\xa0scheduled\\xa0or\\xa0agreed\\xa0upon.\"', 'No,\\xa0Trump\\xa0has\\xa0declined\\xa0to\\xa0participate\\xa0in\\xa0a\\xa0second\\xa0debate\\xa0with\\xa0Harris.')\n",
      "('What\\xa0opportunity\\xa0has\\xa0CNN\\xa0offered\\xa0to\\xa0both\\xa0candidates?', \"What\\xa0did\\xa0Trump\\xa0say\\xa0about\\xa0the\\xa0editing\\xa0of\\xa0Harris'\\xa0interview?\")\n",
      "('CNN\\xa0has\\xa0offered\\xa0both\\xa0candidates\\xa0an\\xa0opportunity\\xa0for\\xa0a\\xa0debate\\xa0later\\xa0this\\xa0month.', 'Trump\\xa0said\\xa0the\\xa0editing\\xa0was\\xa0done\\xa0to\\xa0make\\xa0Harris\\xa0look\\xa0\"more\\xa0Presidential\"\\xa0or\\xa0at\\xa0least\\xa0better.')\n",
      "(\"What\\xa0did\\xa0Trump\\xa0call\\xa0the\\xa0editing\\xa0of\\xa0Harris'\\xa0interview?\", 'What\\xa0did\\xa0Trump\\xa0say\\xa0the\\xa0public\\xa0is\\xa0owed?')\n",
      "('He\\xa0called\\xa0it\\xa0\"sliced\\xa0and\\xa0diced\"\\xa0and\\xa0\"cut\\xa0and\\xa0pasted.\"', 'Trump\\xa0said\\xa0the\\xa0public\\xa0is\\xa0owed\\xa0a\\xa0\"MAJOR\\xa0AND\\xa0IMMEDIATE\\xa0APOLOGY.\"')\n",
      "('What\\xa0did\\xa0Trump\\xa0demand\\xa0to\\xa0be\\xa0investigated?', 'What\\xa0did\\xa0Trump\\xa0say\\xa0about\\xa0the\\xa0tradition\\xa0of\\xa0presidential\\xa0candidates\\xa0participating\\xa0in\\xa0\"60\\xa0Minutes\"?')\n",
      "(\"He\\xa0demanded\\xa0that\\xa0the\\xa0alleged\\xa0editing\\xa0of\\xa0Harris'\\xa0interview\\xa0be\\xa0investigated.\", 'He\\xa0mentioned\\xa0that\\xa0it\\xa0is\\xa0a\\xa0tradition\\xa0dating\\xa0back\\xa0to\\xa01968.')\n",
      "('What\\xa0reason\\xa0did\\xa0Trump\\xa0give\\xa0for\\xa0canceling\\xa0his\\xa0\"60\\xa0Minutes\"\\xa0interview?', 'What\\xa0did\\xa0Steven\\xa0Cheung\\xa0say\\xa0about\\xa0the\\xa0scheduling\\xa0of\\xa0the\\xa0\"60\\xa0Minutes\"\\xa0interview?')\n",
      "(\"He\\xa0didn't\\xa0want\\xa0to\\xa0be\\xa0fact-checked\\xa0and\\xa0wanted\\xa0an\\xa0apology\\xa0for\\xa0his\\xa02020\\xa0interview.\", 'Cheung\\xa0said\\xa0there\\xa0was\\xa0nothing\\xa0scheduled\\xa0or\\xa0agreed\\xa0upon.')\n",
      "(\"What\\xa0did\\xa0Trump\\xa0say\\xa0about\\xa0Harris'\\xa0answers\\xa0in\\xa0her\\xa0interview?\", \"What\\xa0did\\xa0Trump\\xa0allege\\xa0about\\xa0the\\xa0editing\\xa0of\\xa0Harris'\\xa0answers?\")\n",
      "('He\\xa0said\\xa0they\\xa0were\\xa0\"virtually\\xa0incoherent.\"', 'He\\xa0alleged\\xa0that\\xa0they\\xa0were\\xa0edited\\xa0as\\xa0many\\xa0as\\xa0four\\xa0times\\xa0in\\xa0a\\xa0single\\xa0sentence\\xa0or\\xa0thought.')\n",
      "('What\\xa0did\\xa0Trump\\xa0say\\xa0about\\xa0the\\xa0editing\\xa0being\\xa0a\\xa0campaign\\xa0finance\\xa0violation?', 'What\\xa0did\\xa0Trump\\xa0demand\\xa0in\\xa0his\\xa0Truth\\xa0Social\\xa0post?')\n",
      "('He\\xa0said\\xa0it\\xa0could\\xa0be\\xa0a\\xa0\"major\\xa0campaign\\xa0finance\\xa0violation.\"', 'He\\xa0demanded\\xa0an\\xa0immediate\\xa0investigation\\xa0and\\xa0a\\xa0major\\xa0apology.')\n"
     ]
    }
   ],
   "source": [
    "# put your data into a DataLoader \n",
    "dataset = QADataset(data1)\n",
    "dataloader = DataLoader(dataset, batch_size=2)\n",
    "\n",
    "for batch in dataloader:\n",
    "    questions, answers = batch\n",
    "    print(questions)\n",
    "    print(answers)"
   ]
  },
  {
   "cell_type": "code",
   "execution_count": null,
   "id": "ac5503af-f746-4e0c-bd65-97cefed40f20",
   "metadata": {},
   "outputs": [],
   "source": []
  }
 ],
 "metadata": {
  "kernelspec": {
   "display_name": "Python 3 (ipykernel)",
   "language": "python",
   "name": "python3"
  },
  "language_info": {
   "codemirror_mode": {
    "name": "ipython",
    "version": 3
   },
   "file_extension": ".py",
   "mimetype": "text/x-python",
   "name": "python",
   "nbconvert_exporter": "python",
   "pygments_lexer": "ipython3",
   "version": "3.10.12"
  }
 },
 "nbformat": 4,
 "nbformat_minor": 5
}
