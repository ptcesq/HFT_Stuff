{
 "cells": [
  {
   "cell_type": "markdown",
   "id": "42b63485-4c1e-44fe-a85c-309db9f16588",
   "metadata": {},
   "source": [
    "# Pre-Processing Bert Model "
   ]
  },
  {
   "cell_type": "code",
   "execution_count": 1,
   "id": "3b1b8eba-7e45-4328-b881-177055a90cf9",
   "metadata": {
    "tags": []
   },
   "outputs": [],
   "source": [
    "# import libraries \n",
    "import torch\n",
    "from transformers import AdamW, AutoTokenizer, AutoModelForSequenceClassification, BertModel"
   ]
  },
  {
   "cell_type": "code",
   "execution_count": 2,
   "id": "f26faf0e-d690-4247-bf88-ecac2cff1aef",
   "metadata": {
    "tags": []
   },
   "outputs": [
    {
     "name": "stderr",
     "output_type": "stream",
     "text": [
      "/usr/local/lib/python3.10/dist-packages/transformers/tokenization_utils_base.py:1601: FutureWarning: `clean_up_tokenization_spaces` was not set. It will be set to `True` by default. This behavior will be depracted in transformers v4.45, and will be then set to `False` by default. For more details check this issue: https://github.com/huggingface/transformers/issues/31884\n",
      "  warnings.warn(\n",
      "Some weights of BertForSequenceClassification were not initialized from the model checkpoint at bert-base-uncased and are newly initialized: ['classifier.bias', 'classifier.weight']\n",
      "You should probably TRAIN this model on a down-stream task to be able to use it for predictions and inference.\n"
     ]
    }
   ],
   "source": [
    "# import model \n",
    "checkpoint = \"bert-base-uncased\"\n",
    "tokenizer = AutoTokenizer.from_pretrained(checkpoint)\n",
    "model = AutoModelForSequenceClassification.from_pretrained(checkpoint)"
   ]
  },
  {
   "cell_type": "code",
   "execution_count": 3,
   "id": "d460078c-9073-42d7-96bf-59f14ddd1b7a",
   "metadata": {
    "tags": []
   },
   "outputs": [],
   "source": [
    "# Create the data you want to train on and tokenize \n",
    "sequences = [\n",
    "    \"The rain in spain stays mainly on the plain.\",\n",
    "    \"Eating spinich is good for you\",\n",
    "]\n",
    "batch = tokenizer(sequences, padding=True, truncation=True, return_tensors=\"pt\")\n"
   ]
  },
  {
   "cell_type": "code",
   "execution_count": 4,
   "id": "8b53bb4e-0b61-4a87-807a-549726e00d68",
   "metadata": {
    "tags": []
   },
   "outputs": [],
   "source": [
    "# Add labels to the tensors \n",
    "batch[\"labels\"] = torch.tensor([1, 1])"
   ]
  },
  {
   "cell_type": "code",
   "execution_count": 5,
   "id": "9aa9e992-9b27-4a61-89aa-de55046f7e19",
   "metadata": {
    "tags": []
   },
   "outputs": [
    {
     "name": "stdout",
     "output_type": "stream",
     "text": [
      "{'input_ids': tensor([[  101,  1996,  4542,  1999,  3577, 12237,  3701,  2006,  1996,  5810,\n",
      "          1012,   102],\n",
      "        [  101,  5983,  6714,  7033,  2003,  2204,  2005,  2017,   102,     0,\n",
      "             0,     0]]), 'token_type_ids': tensor([[0, 0, 0, 0, 0, 0, 0, 0, 0, 0, 0, 0],\n",
      "        [0, 0, 0, 0, 0, 0, 0, 0, 0, 0, 0, 0]]), 'attention_mask': tensor([[1, 1, 1, 1, 1, 1, 1, 1, 1, 1, 1, 1],\n",
      "        [1, 1, 1, 1, 1, 1, 1, 1, 1, 0, 0, 0]]), 'labels': tensor([1, 1])}\n"
     ]
    }
   ],
   "source": [
    "print(batch) "
   ]
  },
  {
   "cell_type": "code",
   "execution_count": 6,
   "id": "34e84b39-d612-446f-a282-28c203a83d56",
   "metadata": {
    "tags": []
   },
   "outputs": [
    {
     "name": "stderr",
     "output_type": "stream",
     "text": [
      "/usr/local/lib/python3.10/dist-packages/transformers/optimization.py:591: FutureWarning: This implementation of AdamW is deprecated and will be removed in a future version. Use the PyTorch implementation torch.optim.AdamW instead, or set `no_deprecation_warning=True` to disable this warning\n",
      "  warnings.warn(\n"
     ]
    }
   ],
   "source": [
    "# Now fine tune the model \n",
    "optimizer = AdamW(model.parameters())\n",
    "loss = model(**batch).loss\n",
    "loss.backward()\n",
    "optimizer.step()"
   ]
  },
  {
   "cell_type": "code",
   "execution_count": 7,
   "id": "cd5301c3-51b3-427c-b580-863439c9f824",
   "metadata": {
    "tags": []
   },
   "outputs": [],
   "source": [
    "# Now save the fine tuned model \n",
    "model.save_pretrained('my_fine_tuned_bert2') "
   ]
  },
  {
   "cell_type": "markdown",
   "id": "efe4bba2-4a8c-495f-81fd-00bc22f36dfb",
   "metadata": {},
   "source": [
    "### Bring the model back"
   ]
  },
  {
   "cell_type": "code",
   "execution_count": 8,
   "id": "79d97fce-d19d-4ab4-9fec-5e4001ba3be0",
   "metadata": {
    "tags": []
   },
   "outputs": [],
   "source": [
    "model_2 = BertModel.from_pretrained('my_fine_tuned_bert2')"
   ]
  }
 ],
 "metadata": {
  "kernelspec": {
   "display_name": "Python 3 (ipykernel)",
   "language": "python",
   "name": "python3"
  },
  "language_info": {
   "codemirror_mode": {
    "name": "ipython",
    "version": 3
   },
   "file_extension": ".py",
   "mimetype": "text/x-python",
   "name": "python",
   "nbconvert_exporter": "python",
   "pygments_lexer": "ipython3",
   "version": "3.10.12"
  }
 },
 "nbformat": 4,
 "nbformat_minor": 5
}
