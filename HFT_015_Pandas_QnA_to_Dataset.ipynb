{
 "cells": [
  {
   "cell_type": "markdown",
   "id": "8617baea-0fad-4804-ab08-c366334113f5",
   "metadata": {},
   "source": [
    "# preprocessing \n",
    "\n",
    "1. Select text \n",
    "2. Using LLM - break up sentences and form questions \n",
    "3. clean up text - take out \\xa0 - replace with space and take out \\' replace '\n"
   ]
  },
  {
   "cell_type": "code",
   "execution_count": 1,
   "id": "b399dd94-8869-4e66-b071-727b19ecff59",
   "metadata": {
    "tags": []
   },
   "outputs": [],
   "source": [
    "# Import your libraries \n",
    "import torch\n",
    "from torch.utils.data import Dataset, DataLoader"
   ]
  },
  {
   "cell_type": "code",
   "execution_count": 2,
   "id": "f22325d9-6366-438b-8123-cf6543a6af07",
   "metadata": {
    "tags": []
   },
   "outputs": [],
   "source": [
    "# Define your dataset class \n",
    "class QADataset(Dataset):\n",
    "    def __init__(self, data):\n",
    "        self.data = data\n",
    "\n",
    "    def __len__(self):\n",
    "        return len(self.data)\n",
    "\n",
    "    def __getitem__(self, idx):\n",
    "        question = self.data[idx][\"Question\"]\n",
    "        answer = self.data[idx][\"Answer\"]\n",
    "        # Perform any necessary preprocessing here\n",
    "        return question, answer"
   ]
  },
  {
   "cell_type": "code",
   "execution_count": 3,
   "id": "1fbcbd82-390d-4df2-9e10-25d3ae7b316f",
   "metadata": {
    "tags": []
   },
   "outputs": [
    {
     "data": {
      "text/html": [
       "<div>\n",
       "<style scoped>\n",
       "    .dataframe tbody tr th:only-of-type {\n",
       "        vertical-align: middle;\n",
       "    }\n",
       "\n",
       "    .dataframe tbody tr th {\n",
       "        vertical-align: top;\n",
       "    }\n",
       "\n",
       "    .dataframe thead th {\n",
       "        text-align: right;\n",
       "    }\n",
       "</style>\n",
       "<table border=\"1\" class=\"dataframe\">\n",
       "  <thead>\n",
       "    <tr style=\"text-align: right;\">\n",
       "      <th></th>\n",
       "      <th>Question</th>\n",
       "      <th>Answer</th>\n",
       "    </tr>\n",
       "  </thead>\n",
       "  <tbody>\n",
       "    <tr>\n",
       "      <th>0</th>\n",
       "      <td>What did Trump claim about Harris' answers in ...</td>\n",
       "      <td>Trump claimed that Harris' answers were \"virtu...</td>\n",
       "    </tr>\n",
       "    <tr>\n",
       "      <th>1</th>\n",
       "      <td>What did Trump allege the editing could be?</td>\n",
       "      <td>He alleged that the editing could be a \"major ...</td>\n",
       "    </tr>\n",
       "    <tr>\n",
       "      <th>2</th>\n",
       "      <td>What did Trump demand in his Truth Social post?</td>\n",
       "      <td>Trump demanded a \"MAJOR AND IMMEDIATE APOLOGY\"...</td>\n",
       "    </tr>\n",
       "    <tr>\n",
       "      <th>3</th>\n",
       "      <td>Who has HuffPost reached out to for clarificat...</td>\n",
       "      <td>HuffPost has reached out to a Trump spokespers...</td>\n",
       "    </tr>\n",
       "    <tr>\n",
       "      <th>4</th>\n",
       "      <td>Did CBS respond to HuffPost's request for comm...</td>\n",
       "      <td>No, a CBS representative did not immediately r...</td>\n",
       "    </tr>\n",
       "  </tbody>\n",
       "</table>\n",
       "</div>"
      ],
      "text/plain": [
       "                                            Question  \\\n",
       "0  What did Trump claim about Harris' answers in ...   \n",
       "1        What did Trump allege the editing could be?   \n",
       "2    What did Trump demand in his Truth Social post?   \n",
       "3  Who has HuffPost reached out to for clarificat...   \n",
       "4  Did CBS respond to HuffPost's request for comm...   \n",
       "\n",
       "                                              Answer  \n",
       "0  Trump claimed that Harris' answers were \"virtu...  \n",
       "1  He alleged that the editing could be a \"major ...  \n",
       "2  Trump demanded a \"MAJOR AND IMMEDIATE APOLOGY\"...  \n",
       "3  HuffPost has reached out to a Trump spokespers...  \n",
       "4  No, a CBS representative did not immediately r...  "
      ]
     },
     "execution_count": 3,
     "metadata": {},
     "output_type": "execute_result"
    }
   ],
   "source": [
    "import pandas as pd \n",
    "\n",
    "fileIn = \"/mnt/ssd/LLM_Stuff/data/trump.xlsx\"\n",
    "\n",
    "df = pd.read_excel(fileIn) \n",
    "df.head()"
   ]
  },
  {
   "cell_type": "code",
   "execution_count": 4,
   "id": "9a1bb0c6-7985-4add-928d-51f1c32d1087",
   "metadata": {
    "tags": []
   },
   "outputs": [],
   "source": [
    "df['Question'] = df['Question'].str.replace('\\xa0', ' ')\n",
    "df['Answer'] = df['Answer'].str.replace('\\xa0', ' ')"
   ]
  },
  {
   "cell_type": "code",
   "execution_count": 5,
   "id": "20793f2c-5408-41dc-a8be-3bc47b472877",
   "metadata": {
    "tags": []
   },
   "outputs": [
    {
     "name": "stdout",
     "output_type": "stream",
     "text": [
      "[{'Question': \"What did Trump claim about Harris' answers in her interview?\", 'Answer': 'Trump claimed that Harris\\' answers were \"virtually incoherent\" and edited \"as many as four times in a single sentence or thought.\"'}, {'Question': 'What did Trump allege the editing could be?', 'Answer': 'He alleged that the editing could be a \"major campaign finance violation.\"'}, {'Question': 'What did Trump demand in his Truth Social post?', 'Answer': 'Trump demanded a \"MAJOR AND IMMEDIATE APOLOGY\" and called for an investigation to start immediately.'}, {'Question': \"Who has HuffPost reached out to for clarification on Trump's allegations?\", 'Answer': 'HuffPost has reached out to a Trump spokesperson for clarification.'}, {'Question': \"Did CBS respond to HuffPost's request for comment?\", 'Answer': 'No, a CBS representative did not immediately respond to the request for comment.'}, {'Question': 'Why did Trump back out of his own interview with \"60 Minutes\"?', 'Answer': \"Trump backed out because he didn't want to be fact-checked and wanted an apology for how his interview with the program went in 2020.\"}, {'Question': 'What did Trump spokesman Steven Cheung say about the \"60 Minutes\" interview?', 'Answer': 'Steven Cheung insisted that \"there was nothing scheduled or agreed upon.\"'}, {'Question': 'Has Trump agreed to participate in a second debate with Harris?', 'Answer': 'No, Trump has declined to participate in a second debate with Harris.'}, {'Question': 'What opportunity has CNN offered to both candidates?', 'Answer': 'CNN has offered both candidates an opportunity for a debate later this month.'}, {'Question': \"What did Trump say about the editing of Harris' interview?\", 'Answer': 'Trump said the editing was done to make Harris look \"more Presidential\" or at least better.'}, {'Question': \"What did Trump call the editing of Harris' interview?\", 'Answer': 'He called it \"sliced and diced\" and \"cut and pasted.\"'}, {'Question': 'What did Trump say the public is owed?', 'Answer': 'Trump said the public is owed a \"MAJOR AND IMMEDIATE APOLOGY.\"'}, {'Question': 'What did Trump demand to be investigated?', 'Answer': \"He demanded that the alleged editing of Harris' interview be investigated.\"}, {'Question': 'What did Trump say about the tradition of presidential candidates participating in \"60 Minutes\"?', 'Answer': 'He mentioned that it is a tradition dating back to 1968.'}, {'Question': 'What reason did Trump give for canceling his \"60 Minutes\" interview?', 'Answer': \"He didn't want to be fact-checked and wanted an apology for his 2020 interview.\"}, {'Question': 'What did Steven Cheung say about the scheduling of the \"60 Minutes\" interview?', 'Answer': 'Cheung said there was nothing scheduled or agreed upon.'}, {'Question': \"What did Trump say about Harris' answers in her interview?\", 'Answer': 'He said they were \"virtually incoherent.\"'}, {'Question': \"What did Trump allege about the editing of Harris' answers?\", 'Answer': 'He alleged that they were edited as many as four times in a single sentence or thought.'}, {'Question': 'What did Trump say about the editing being a campaign finance violation?', 'Answer': 'He said it could be a \"major campaign finance violation.\"'}, {'Question': 'What did Trump demand in his Truth Social post?', 'Answer': 'He demanded an immediate investigation and a major apology.'}]\n"
     ]
    }
   ],
   "source": [
    "data_dict = df.to_dict('records') \n",
    "print(data_dict)"
   ]
  },
  {
   "cell_type": "code",
   "execution_count": 6,
   "id": "c7bb54a2-38ef-473c-a645-9e7eb42e40a3",
   "metadata": {
    "tags": []
   },
   "outputs": [],
   "source": [
    "#get your data - simple hand rolled \n",
    "data = [\n",
    "    {\"Question\": \"What is the capital of France?\", \"Answer\": \"Paris\"},\n",
    "    {\"Question\": \"Who painted the Mona Lisa?\", \"Answer\": \"Leonardo da Vinci\"},\n",
    "    # Add more question-answer pairs\n",
    "]"
   ]
  },
  {
   "cell_type": "code",
   "execution_count": null,
   "id": "b121efa4-f864-4538-b6d1-55f1b877cc65",
   "metadata": {},
   "outputs": [],
   "source": []
  },
  {
   "cell_type": "code",
   "execution_count": 7,
   "id": "6e07150b-190e-4243-8100-78a27894a69c",
   "metadata": {
    "tags": []
   },
   "outputs": [
    {
     "name": "stdout",
     "output_type": "stream",
     "text": [
      "('What is the capital of France?', 'Who painted the Mona Lisa?')\n",
      "('Paris', 'Leonardo da Vinci')\n"
     ]
    }
   ],
   "source": [
    "# put your data into a DataLoader \n",
    "dataset = QADataset(data)\n",
    "dataloader = DataLoader(dataset, batch_size=2)\n",
    "\n",
    "for batch in dataloader:\n",
    "    questions, answers = batch\n",
    "    print(questions)\n",
    "    print(answers)"
   ]
  },
  {
   "cell_type": "code",
   "execution_count": 8,
   "id": "671e3755-eca0-4003-8d40-0c9543a19839",
   "metadata": {
    "tags": []
   },
   "outputs": [
    {
     "name": "stdout",
     "output_type": "stream",
     "text": [
      "Batch:  1\n",
      "(\"What did Trump claim about Harris' answers in her interview?\", 'What did Trump allege the editing could be?')\n",
      "('Trump claimed that Harris\\' answers were \"virtually incoherent\" and edited \"as many as four times in a single sentence or thought.\"', 'He alleged that the editing could be a \"major campaign finance violation.\"')\n",
      "Batch:  2\n",
      "('What did Trump demand in his Truth Social post?', \"Who has HuffPost reached out to for clarification on Trump's allegations?\")\n",
      "('Trump demanded a \"MAJOR AND IMMEDIATE APOLOGY\" and called for an investigation to start immediately.', 'HuffPost has reached out to a Trump spokesperson for clarification.')\n",
      "Batch:  3\n",
      "(\"Did CBS respond to HuffPost's request for comment?\", 'Why did Trump back out of his own interview with \"60 Minutes\"?')\n",
      "('No, a CBS representative did not immediately respond to the request for comment.', \"Trump backed out because he didn't want to be fact-checked and wanted an apology for how his interview with the program went in 2020.\")\n",
      "Batch:  4\n",
      "('What did Trump spokesman Steven Cheung say about the \"60 Minutes\" interview?', 'Has Trump agreed to participate in a second debate with Harris?')\n",
      "('Steven Cheung insisted that \"there was nothing scheduled or agreed upon.\"', 'No, Trump has declined to participate in a second debate with Harris.')\n",
      "Batch:  5\n",
      "('What opportunity has CNN offered to both candidates?', \"What did Trump say about the editing of Harris' interview?\")\n",
      "('CNN has offered both candidates an opportunity for a debate later this month.', 'Trump said the editing was done to make Harris look \"more Presidential\" or at least better.')\n",
      "Batch:  6\n",
      "(\"What did Trump call the editing of Harris' interview?\", 'What did Trump say the public is owed?')\n",
      "('He called it \"sliced and diced\" and \"cut and pasted.\"', 'Trump said the public is owed a \"MAJOR AND IMMEDIATE APOLOGY.\"')\n",
      "Batch:  7\n",
      "('What did Trump demand to be investigated?', 'What did Trump say about the tradition of presidential candidates participating in \"60 Minutes\"?')\n",
      "(\"He demanded that the alleged editing of Harris' interview be investigated.\", 'He mentioned that it is a tradition dating back to 1968.')\n",
      "Batch:  8\n",
      "('What reason did Trump give for canceling his \"60 Minutes\" interview?', 'What did Steven Cheung say about the scheduling of the \"60 Minutes\" interview?')\n",
      "(\"He didn't want to be fact-checked and wanted an apology for his 2020 interview.\", 'Cheung said there was nothing scheduled or agreed upon.')\n",
      "Batch:  9\n",
      "(\"What did Trump say about Harris' answers in her interview?\", \"What did Trump allege about the editing of Harris' answers?\")\n",
      "('He said they were \"virtually incoherent.\"', 'He alleged that they were edited as many as four times in a single sentence or thought.')\n",
      "Batch:  10\n",
      "('What did Trump say about the editing being a campaign finance violation?', 'What did Trump demand in his Truth Social post?')\n",
      "('He said it could be a \"major campaign finance violation.\"', 'He demanded an immediate investigation and a major apology.')\n"
     ]
    }
   ],
   "source": [
    "# put your data into a DataLoader \n",
    "dataset1 = QADataset(data_dict)\n",
    "dataloader = DataLoader(dataset1, batch_size=2)\n",
    "counter = 1\n",
    "for batch in dataloader:\n",
    "    questions, answers = batch\n",
    "    print('Batch: ', counter) \n",
    "    print(questions)\n",
    "    print(answers)\n",
    "    counter = counter + 1 "
   ]
  },
  {
   "cell_type": "code",
   "execution_count": null,
   "id": "e567268c-8a4b-438f-8665-7af12da3cfc5",
   "metadata": {},
   "outputs": [],
   "source": []
  }
 ],
 "metadata": {
  "kernelspec": {
   "display_name": "Python 3 (ipykernel)",
   "language": "python",
   "name": "python3"
  },
  "language_info": {
   "codemirror_mode": {
    "name": "ipython",
    "version": 3
   },
   "file_extension": ".py",
   "mimetype": "text/x-python",
   "name": "python",
   "nbconvert_exporter": "python",
   "pygments_lexer": "ipython3",
   "version": "3.10.12"
  }
 },
 "nbformat": 4,
 "nbformat_minor": 5
}
