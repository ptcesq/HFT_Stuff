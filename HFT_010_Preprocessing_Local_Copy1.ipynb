{
 "cells": [
  {
   "cell_type": "markdown",
   "id": "42b63485-4c1e-44fe-a85c-309db9f16588",
   "metadata": {},
   "source": [
    "# Pre-Processing Bert Model "
   ]
  },
  {
   "cell_type": "code",
   "execution_count": 1,
   "id": "3b1b8eba-7e45-4328-b881-177055a90cf9",
   "metadata": {
    "tags": []
   },
   "outputs": [],
   "source": [
    "# import libraries \n",
    "import torch\n",
    "from transformers import AdamW, AutoTokenizer, AutoModelForSequenceClassification"
   ]
  },
  {
   "cell_type": "code",
   "execution_count": 6,
   "id": "f26faf0e-d690-4247-bf88-ecac2cff1aef",
   "metadata": {
    "tags": []
   },
   "outputs": [
    {
     "name": "stderr",
     "output_type": "stream",
     "text": [
      "Some weights of BertForSequenceClassification were not initialized from the model checkpoint at bert-base-uncased and are newly initialized: ['classifier.bias', 'classifier.weight']\n",
      "You should probably TRAIN this model on a down-stream task to be able to use it for predictions and inference.\n"
     ]
    }
   ],
   "source": [
    "# import model \n",
    "checkpoint = \"bert-base-uncased\"\n",
    "tokenizer = AutoTokenizer.from_pretrained(checkpoint)\n",
    "model = AutoModelForSequenceClassification.from_pretrained(checkpoint)"
   ]
  },
  {
   "cell_type": "code",
   "execution_count": 7,
   "id": "d460078c-9073-42d7-96bf-59f14ddd1b7a",
   "metadata": {
    "tags": []
   },
   "outputs": [],
   "source": [
    "# Create the data you want to train on and tokenize \n",
    "sequences = [\n",
    "    \"The rain in spain stays mainly on the plain.\",\n",
    "    \"Eating spinich is good for you\",\n",
    "]\n",
    "batch = tokenizer(sequences, padding=True, truncation=True, return_tensors=\"pt\")"
   ]
  },
  {
   "cell_type": "code",
   "execution_count": 8,
   "id": "8b53bb4e-0b61-4a87-807a-549726e00d68",
   "metadata": {
    "tags": []
   },
   "outputs": [],
   "source": [
    "# Add labels to the tensors \n",
    "batch[\"labels\"] = torch.tensor([1, 1])"
   ]
  },
  {
   "cell_type": "code",
   "execution_count": 9,
   "id": "34e84b39-d612-446f-a282-28c203a83d56",
   "metadata": {
    "tags": []
   },
   "outputs": [
    {
     "name": "stderr",
     "output_type": "stream",
     "text": [
      "/usr/local/lib/python3.10/dist-packages/transformers/optimization.py:591: FutureWarning: This implementation of AdamW is deprecated and will be removed in a future version. Use the PyTorch implementation torch.optim.AdamW instead, or set `no_deprecation_warning=True` to disable this warning\n",
      "  warnings.warn(\n"
     ]
    }
   ],
   "source": [
    "# Now fine tune the model \n",
    "optimizer = AdamW(model.parameters())\n",
    "loss = model(**batch).loss\n",
    "loss.backward()\n",
    "optimizer.step()"
   ]
  },
  {
   "cell_type": "code",
   "execution_count": 10,
   "id": "eb6448b2-07be-4645-ad9a-871aacc9c8be",
   "metadata": {
    "tags": []
   },
   "outputs": [],
   "source": [
    "model.save_pretrained(\"my_fine_tuned_bert\") "
   ]
  },
  {
   "cell_type": "code",
   "execution_count": null,
   "id": "3f7cefc3-186a-4e0a-974c-a90bcbc5c161",
   "metadata": {},
   "outputs": [],
   "source": []
  }
 ],
 "metadata": {
  "kernelspec": {
   "display_name": "Python 3 (ipykernel)",
   "language": "python",
   "name": "python3"
  },
  "language_info": {
   "codemirror_mode": {
    "name": "ipython",
    "version": 3
   },
   "file_extension": ".py",
   "mimetype": "text/x-python",
   "name": "python",
   "nbconvert_exporter": "python",
   "pygments_lexer": "ipython3",
   "version": "3.10.12"
  }
 },
 "nbformat": 4,
 "nbformat_minor": 5
}
