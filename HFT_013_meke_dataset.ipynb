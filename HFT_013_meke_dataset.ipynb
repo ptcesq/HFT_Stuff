{
 "cells": [
  {
   "cell_type": "code",
   "execution_count": 4,
   "id": "2821f6d7-6ea0-4b2a-af63-b141c3cf6308",
   "metadata": {
    "tags": []
   },
   "outputs": [],
   "source": [
    "import torch\n",
    "from torch.utils.data import Dataset, DataLoader \n",
    "\n",
    "class QADataset(Dataset):\n",
    "    def __init__(self, data):\n",
    "        self.data = data\n",
    "\n",
    "    def __len__(self):\n",
    "        return len(self.data)\n",
    "\n",
    "    def __getitem__(self, idx):\n",
    "        question = self.data[idx][\"question\"]\n",
    "        answer = self.data[idx][\"answer\"]\n",
    "        # Perform any necessary preprocessing here\n",
    "        return question, answer"
   ]
  },
  {
   "cell_type": "code",
   "execution_count": 6,
   "id": "9c0e196c-d082-4459-92b5-800eb3485c43",
   "metadata": {
    "tags": []
   },
   "outputs": [
    {
     "name": "stdout",
     "output_type": "stream",
     "text": [
      "('What is the capital of France?', 'Who painted the Mona Lisa?')\n",
      "('Paris', 'Leonardo da Vinci')\n"
     ]
    }
   ],
   "source": [
    "data = [\n",
    "    {\"question\": \"What is the capital of France?\", \"answer\": \"Paris\"},\n",
    "    {\"question\": \"Who painted the Mona Lisa?\", \"answer\": \"Leonardo da Vinci\"},\n",
    "    # Add more question-answer pairs\n",
    "]\n",
    "\n",
    "dataset = QADataset(data)\n",
    "dataloader = DataLoader(dataset, batch_size=2)\n",
    "\n",
    "for batch in dataloader:\n",
    "    questions, answers = batch\n",
    "    print(questions)\n",
    "    print(answers)"
   ]
  },
  {
   "cell_type": "code",
   "execution_count": null,
   "id": "49135aff-344d-49f6-996c-1fcbb308d1f7",
   "metadata": {},
   "outputs": [],
   "source": []
  }
 ],
 "metadata": {
  "kernelspec": {
   "display_name": "Python 3 (ipykernel)",
   "language": "python",
   "name": "python3"
  },
  "language_info": {
   "codemirror_mode": {
    "name": "ipython",
    "version": 3
   },
   "file_extension": ".py",
   "mimetype": "text/x-python",
   "name": "python",
   "nbconvert_exporter": "python",
   "pygments_lexer": "ipython3",
   "version": "3.10.12"
  }
 },
 "nbformat": 4,
 "nbformat_minor": 5
}
